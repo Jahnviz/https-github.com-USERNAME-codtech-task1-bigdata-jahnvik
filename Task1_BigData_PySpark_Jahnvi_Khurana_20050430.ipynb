{
  "nbformat": 4,
  "nbformat_minor": 0,
  "metadata": {
    "colab": {
      "provenance": []
    },
    "kernelspec": {
      "name": "python3",
      "display_name": "Python 3"
    },
    "language_info": {
      "name": "python"
    }
  },
  "cells": [
    {
      "cell_type": "code",
      "source": [
        "!pip install dask[dataframe] matplotlib seaborn pandas\n"
      ],
      "metadata": {
        "colab": {
          "base_uri": "https://localhost:8080/"
        },
        "id": "ndOonNvm9_pY",
        "outputId": "ad672154-eed1-4e13-81eb-fe4ef6f099cd"
      },
      "execution_count": 3,
      "outputs": [
        {
          "output_type": "stream",
          "name": "stdout",
          "text": [
            "Requirement already satisfied: matplotlib in /usr/local/lib/python3.12/dist-packages (3.10.0)\n",
            "Requirement already satisfied: seaborn in /usr/local/lib/python3.12/dist-packages (0.13.2)\n",
            "Requirement already satisfied: pandas in /usr/local/lib/python3.12/dist-packages (2.2.2)\n",
            "Requirement already satisfied: dask[dataframe] in /usr/local/lib/python3.12/dist-packages (2025.5.0)\n",
            "Requirement already satisfied: click>=8.1 in /usr/local/lib/python3.12/dist-packages (from dask[dataframe]) (8.2.1)\n",
            "Requirement already satisfied: cloudpickle>=3.0.0 in /usr/local/lib/python3.12/dist-packages (from dask[dataframe]) (3.1.1)\n",
            "Requirement already satisfied: fsspec>=2021.09.0 in /usr/local/lib/python3.12/dist-packages (from dask[dataframe]) (2025.3.0)\n",
            "Requirement already satisfied: packaging>=20.0 in /usr/local/lib/python3.12/dist-packages (from dask[dataframe]) (25.0)\n",
            "Requirement already satisfied: partd>=1.4.0 in /usr/local/lib/python3.12/dist-packages (from dask[dataframe]) (1.4.2)\n",
            "Requirement already satisfied: pyyaml>=5.3.1 in /usr/local/lib/python3.12/dist-packages (from dask[dataframe]) (6.0.2)\n",
            "Requirement already satisfied: toolz>=0.10.0 in /usr/local/lib/python3.12/dist-packages (from dask[dataframe]) (0.12.1)\n",
            "Requirement already satisfied: pyarrow>=14.0.1 in /usr/local/lib/python3.12/dist-packages (from dask[dataframe]) (18.1.0)\n",
            "Requirement already satisfied: contourpy>=1.0.1 in /usr/local/lib/python3.12/dist-packages (from matplotlib) (1.3.3)\n",
            "Requirement already satisfied: cycler>=0.10 in /usr/local/lib/python3.12/dist-packages (from matplotlib) (0.12.1)\n",
            "Requirement already satisfied: fonttools>=4.22.0 in /usr/local/lib/python3.12/dist-packages (from matplotlib) (4.60.0)\n",
            "Requirement already satisfied: kiwisolver>=1.3.1 in /usr/local/lib/python3.12/dist-packages (from matplotlib) (1.4.9)\n",
            "Requirement already satisfied: numpy>=1.23 in /usr/local/lib/python3.12/dist-packages (from matplotlib) (2.0.2)\n",
            "Requirement already satisfied: pillow>=8 in /usr/local/lib/python3.12/dist-packages (from matplotlib) (11.3.0)\n",
            "Requirement already satisfied: pyparsing>=2.3.1 in /usr/local/lib/python3.12/dist-packages (from matplotlib) (3.2.4)\n",
            "Requirement already satisfied: python-dateutil>=2.7 in /usr/local/lib/python3.12/dist-packages (from matplotlib) (2.9.0.post0)\n",
            "Requirement already satisfied: pytz>=2020.1 in /usr/local/lib/python3.12/dist-packages (from pandas) (2025.2)\n",
            "Requirement already satisfied: tzdata>=2022.7 in /usr/local/lib/python3.12/dist-packages (from pandas) (2025.2)\n",
            "Requirement already satisfied: locket in /usr/local/lib/python3.12/dist-packages (from partd>=1.4.0->dask[dataframe]) (1.0.0)\n",
            "Requirement already satisfied: six>=1.5 in /usr/local/lib/python3.12/dist-packages (from python-dateutil>=2.7->matplotlib) (1.17.0)\n"
          ]
        }
      ]
    },
    {
      "cell_type": "code",
      "source": [
        "import os\n",
        "\n",
        "os.makedirs(\"data/sample\", exist_ok=True)\n",
        "\n",
        "with open(\"data/sample/sample_sales.csv\", \"w\") as f:\n",
        "    f.write(\"\"\"order_id,date,category,product,sales,quantity\n",
        "1,2025-01-01,Electronics,Phone,250,1\n",
        "2,2025-01-02,Clothing,Shirt,40,2\n",
        "3,2025-01-03,Electronics,Laptop,1200,1\n",
        "4,2025-01-04,Home,Vacuum,150,1\n",
        "5,2025-01-05,Clothing,Jeans,60,1\n",
        "\"\"\")\n",
        "\n",
        "print(\"Sample dataset created at data/sample/sample_sales.csv\")\n"
      ],
      "metadata": {
        "colab": {
          "base_uri": "https://localhost:8080/"
        },
        "id": "q4CicwqS_olI",
        "outputId": "279da046-bd75-4afe-8ed7-f7ec71f05dca"
      },
      "execution_count": 6,
      "outputs": [
        {
          "output_type": "stream",
          "name": "stdout",
          "text": [
            "Sample dataset created at data/sample/sample_sales.csv\n"
          ]
        }
      ]
    },
    {
      "cell_type": "code",
      "source": [
        "import dask.dataframe as dd\n",
        "import matplotlib.pyplot as plt\n",
        "\n",
        "# Make sure outputs folder exists\n",
        "os.makedirs(\"outputs\", exist_ok=True)\n",
        "\n",
        "# Load sample data (or large dataset if provided later)\n",
        "df = dd.read_csv(\"data/sample/sample_sales.csv\")\n",
        "\n",
        "print(\"Schema:\\n\", df.dtypes)\n",
        "print(\"\\nFirst few rows:\\n\", df.head())\n",
        "\n",
        "# Aggregation: total sales by category\n",
        "result = df.groupby(\"category\")[\"sales\"].sum().compute()\n",
        "print(\"\\nTotal sales by category:\\n\", result)\n",
        "\n",
        "# Save to CSV\n",
        "result.to_csv(\"outputs/dask_category_sales.csv\", index=True)\n",
        "\n",
        "# Plot\n",
        "plt.figure(figsize=(6,4))\n",
        "result.plot(kind=\"bar\")\n",
        "plt.title(\"Total Sales by Category\")\n",
        "plt.ylabel(\"Total Sales\")\n",
        "plt.tight_layout()\n",
        "plt.savefig(\"outputs/dask_total_sales.png\")\n",
        "plt.show()\n",
        "\n",
        "print(\"Results saved in outputs/ folder\")\n"
      ],
      "metadata": {
        "colab": {
          "base_uri": "https://localhost:8080/",
          "height": 824
        },
        "id": "cAJ5Le0mAIYE",
        "outputId": "54f2f757-4dff-440c-91ca-961d304d264c"
      },
      "execution_count": 7,
      "outputs": [
        {
          "output_type": "stream",
          "name": "stdout",
          "text": [
            "Schema:\n",
            " order_id              int64\n",
            "date        string[pyarrow]\n",
            "category    string[pyarrow]\n",
            "product     string[pyarrow]\n",
            "sales                 int64\n",
            "quantity              int64\n",
            "dtype: object\n",
            "\n",
            "First few rows:\n",
            "    order_id        date     category product  sales  quantity\n",
            "0         1  2025-01-01  Electronics   Phone    250         1\n",
            "1         2  2025-01-02     Clothing   Shirt     40         2\n",
            "2         3  2025-01-03  Electronics  Laptop   1200         1\n",
            "3         4  2025-01-04         Home  Vacuum    150         1\n",
            "4         5  2025-01-05     Clothing   Jeans     60         1\n",
            "\n",
            "Total sales by category:\n",
            " category\n",
            "Clothing        100\n",
            "Electronics    1450\n",
            "Home            150\n",
            "Name: sales, dtype: int64\n"
          ]
        },
        {
          "output_type": "display_data",
          "data": {
            "text/plain": [
              "<Figure size 600x400 with 1 Axes>"
            ],
            "image/png": "[encoded data removed]"
          },
          "metadata": {}
        },
        {
          "output_type": "stream",
          "name": "stdout",
          "text": [
            "Results saved in outputs/ folder\n"
          ]
        }
      ]
    },
    {
      "cell_type": "code",
      "source": [
        "print(\"Unique identifier: TASK1-JahnviKhurana-20050430\")\n"
      ],
      "metadata": {
        "colab": {
          "base_uri": "https://localhost:8080/"
        },
        "id": "cLqMo8FVAMVX",
        "outputId": "12fd89f6-9fb8-4923-a818-f5a9965ebe98"
      },
      "execution_count": 8,
      "outputs": [
        {
          "output_type": "stream",
          "name": "stdout",
          "text": [
            "Unique identifier: TASK1-JahnviKhurana-20050430\n"
          ]
        }
      ]
    },
    {
      "cell_type": "code",
      "source": [],
      "metadata": {
        "id": "2IEINy25A5uS"
      },
      "execution_count": null,
      "outputs": []
    }
  ]
}